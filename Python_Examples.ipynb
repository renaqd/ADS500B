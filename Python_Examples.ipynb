{
 "cells": [
  {
   "cell_type": "markdown",
   "id": "cedaa9f4-5daf-428e-8b9c-1e456fa789ea",
   "metadata": {},
   "source": [
    "## Python as a calculator"
   ]
  },
  {
   "cell_type": "code",
   "execution_count": 1,
   "id": "544bda42-ea32-4ef9-9926-58663a5805a4",
   "metadata": {},
   "outputs": [
    {
     "data": {
      "text/plain": [
       "5"
      ]
     },
     "execution_count": 1,
     "metadata": {},
     "output_type": "execute_result"
    }
   ],
   "source": [
    "2+3"
   ]
  },
  {
   "cell_type": "markdown",
   "id": "25647ee5-a874-455f-9656-a04d1566a22e",
   "metadata": {},
   "source": [
    "#### Cells in jupyter notebook make it easier to quickly prototype and view results"
   ]
  },
  {
   "cell_type": "markdown",
   "id": "1be14e96-6cf1-41de-8deb-892da8591398",
   "metadata": {},
   "source": [
    "1. Assign results to addition to variable (a) without specifying datatype; automatically recognize value as an integer. Use `type` METHOD to find datatype of a variable:"
   ]
  },
  {
   "cell_type": "code",
   "execution_count": 2,
   "id": "3823a920-30f4-409f-9837-c1bd4eb5861d",
   "metadata": {},
   "outputs": [
    {
     "data": {
      "text/plain": [
       "int"
      ]
     },
     "execution_count": 2,
     "metadata": {},
     "output_type": "execute_result"
    }
   ],
   "source": [
    "a=2+3\n",
    "type(a)"
   ]
  },
  {
   "cell_type": "markdown",
   "id": "5f6c1d38-a1b2-4bbc-9156-bf036fe60311",
   "metadata": {},
   "source": [
    "2. Create variable (b); floating point number, store results of (a) multiplied by (b) into a new variable (c);\n",
    "add type(c) in print function to get datatype of (c)."
   ]
  },
  {
   "cell_type": "code",
   "execution_count": 3,
   "id": "50607e1c-9e52-4eea-9eef-ae9a3c9fb851",
   "metadata": {},
   "outputs": [
    {
     "name": "stdout",
     "output_type": "stream",
     "text": [
      "18.75 <class 'float'>\n"
     ]
    }
   ],
   "source": [
    "b = 3.75\n",
    "c = a*b\n",
    "print(c,type(c))"
   ]
  },
  {
   "cell_type": "markdown",
   "id": "cc097c73-303f-416d-bbb1-dadc1406045c",
   "metadata": {},
   "source": [
    "3. Dividing a float with an integer will result in a float:"
   ]
  },
  {
   "cell_type": "code",
   "execution_count": 4,
   "id": "cc711001-b823-41b3-8c63-26905bc5f089",
   "metadata": {},
   "outputs": [
    {
     "data": {
      "text/plain": [
       "3.125"
      ]
     },
     "execution_count": 4,
     "metadata": {},
     "output_type": "execute_result"
    }
   ],
   "source": [
    "c/6"
   ]
  },
  {
   "cell_type": "markdown",
   "id": "78f308d6-29c2-4cfb-a871-330cabf18e90",
   "metadata": {},
   "source": [
    "4. For only quotient part of division, use the floor division (//) operator:"
   ]
  },
  {
   "cell_type": "code",
   "execution_count": 5,
   "id": "9eb7d91e-a349-4ca2-949e-47452edf3078",
   "metadata": {},
   "outputs": [
    {
     "data": {
      "text/plain": [
       "3.0"
      ]
     },
     "execution_count": 5,
     "metadata": {},
     "output_type": "execute_result"
    }
   ],
   "source": [
    "c//6"
   ]
  },
  {
   "cell_type": "markdown",
   "id": "8feff405-80d0-4f7f-915b-5f5cfe6586b8",
   "metadata": {},
   "source": [
    "5. For only remainder part, use the modulus (%) operator:"
   ]
  },
  {
   "cell_type": "code",
   "execution_count": 6,
   "id": "55d04b9f-4fc1-4dfa-8274-731784de1a5e",
   "metadata": {},
   "outputs": [
    {
     "data": {
      "text/plain": [
       "0.75"
      ]
     },
     "execution_count": 6,
     "metadata": {},
     "output_type": "execute_result"
    }
   ],
   "source": [
    "c%6"
   ]
  },
  {
   "cell_type": "markdown",
   "id": "7e097423-69f2-472a-9ed0-29ceb64b8b98",
   "metadata": {},
   "source": [
    "## Strings\n",
    "Multiple strings can be combined into one object\n",
    "6. Use addition (+) operator:"
   ]
  },
  {
   "cell_type": "code",
   "execution_count": 7,
   "id": "764cae60-f857-472f-b4cc-5cd564f18650",
   "metadata": {},
   "outputs": [
    {
     "data": {
      "text/plain": [
       "'HelloWorld!'"
      ]
     },
     "execution_count": 7,
     "metadata": {},
     "output_type": "execute_result"
    }
   ],
   "source": [
    "strA = 'Hello' + 'World!'\n",
    "strA"
   ]
  },
  {
   "cell_type": "markdown",
   "id": "f29e4083-86d6-43c7-b98e-17c31417dc2d",
   "metadata": {},
   "source": [
    "7. Find length of a string, use `len` METHOD:"
   ]
  },
  {
   "cell_type": "code",
   "execution_count": 8,
   "id": "054cafa0-9ad0-4e3a-8d23-07cf5df2a0be",
   "metadata": {},
   "outputs": [
    {
     "data": {
      "text/plain": [
       "11"
      ]
     },
     "execution_count": 8,
     "metadata": {},
     "output_type": "execute_result"
    }
   ],
   "source": [
    "len(strA)"
   ]
  },
  {
   "cell_type": "markdown",
   "id": "91c99728-be01-4efd-9294-44996dbe7bdd",
   "metadata": {},
   "source": [
    "Output: string has 11 characters in it"
   ]
  },
  {
   "cell_type": "markdown",
   "id": "a0ecfec4-078e-40be-9c63-10ed7866f434",
   "metadata": {},
   "source": [
    "## Index\n",
    "To subset strings; To select range of characters from a string, type the starting and ending index separated by colon (:) within [] square brackets."
   ]
  },
  {
   "cell_type": "code",
   "execution_count": 9,
   "id": "b5998e61-cac6-408e-94c0-10ac20c591b3",
   "metadata": {},
   "outputs": [
    {
     "data": {
      "text/plain": [
       "'loWo'"
      ]
     },
     "execution_count": 9,
     "metadata": {},
     "output_type": "execute_result"
    }
   ],
   "source": [
    "strA[3:7]"
   ]
  },
  {
   "cell_type": "markdown",
   "id": "3d91c262-ecf1-428f-8600-7a66407470df",
   "metadata": {},
   "source": [
    "The desired substring is 'loWo'\n",
    "\n",
    "There are other methods in python to work with strings."
   ]
  },
  {
   "cell_type": "markdown",
   "id": "d2446646-90d8-4973-9ee6-38629b54a2c1",
   "metadata": {},
   "source": [
    "## Making Decisions Based on Variable [Values]"
   ]
  },
  {
   "cell_type": "markdown",
   "id": "b1e7b3fd-9ac8-49f4-8569-be91e9073667",
   "metadata": {},
   "source": [
    "Python `if` `else` statements\n",
    "\n",
    "Example: Is year 2020 a Leap year? (1) assign **2020** to a variable called **year**. (2) Then apply `if` confidion to evaluate if a division of **year** by **4** produces a remainder. If it does, print 'Leap Year'. Otherwise (3) add an `else` condition to print 'Not a leap year'."
   ]
  },
  {
   "cell_type": "code",
   "execution_count": 10,
   "id": "0df51755-8a86-4595-bf00-b849b6854e98",
   "metadata": {},
   "outputs": [
    {
     "name": "stdout",
     "output_type": "stream",
     "text": [
      "Leap year\n"
     ]
    }
   ],
   "source": [
    "year = 2020\n",
    "if year % 4 == 0:\n",
    "    print('Leap year')\n",
    "else:\n",
    "    print('Not a leap year')"
   ]
  },
  {
   "cell_type": "markdown",
   "id": "9c144496-f885-41bf-971a-b3cf233ca0ed",
   "metadata": {},
   "source": [
    "## Loops\n",
    "Adding more power to conditions are loops.\n",
    "\n",
    "Example: Considering `if` `else` condition above, find out Leap years in the last decade. (1) `for` statement to iterates through a series of values which are passed on to the `if` `else` statements. A similar functionality can be achieved through `while` statement."
   ]
  },
  {
   "cell_type": "code",
   "execution_count": 11,
   "id": "153e0911-3c04-49f3-950d-d7cb10e17fc6",
   "metadata": {},
   "outputs": [
    {
     "name": "stdout",
     "output_type": "stream",
     "text": [
      "2010 Not a leap year\n",
      "2011 Not a leap year\n",
      "2012 Leap year\n",
      "2013 Not a leap year\n",
      "2014 Not a leap year\n",
      "2015 Not a leap year\n",
      "2016 Leap year\n",
      "2017 Not a leap year\n",
      "2018 Not a leap year\n",
      "2019 Not a leap year\n"
     ]
    }
   ],
   "source": [
    "for yr in range(2010,2020):\n",
    "    if yr % 4 == 0:\n",
    "        print(yr, 'Leap year')\n",
    "    else:\n",
    "        print(yr, 'Not a leap year')"
   ]
  },
  {
   "cell_type": "markdown",
   "id": "5e9a9a5c-9835-41c7-9bae-dcb4e27eb77b",
   "metadata": {},
   "source": [
    "## About this Notebook:\n",
    "The contents of this notebook are my notes from Professor Malin of the [USD MS Applied Data Science Program](https://onlinedegrees.sandiego.edu/masters-applied-data-science/)"
   ]
  }
 ],
 "metadata": {
  "kernelspec": {
   "display_name": "Python 3 (ipykernel)",
   "language": "python",
   "name": "python3"
  },
  "language_info": {
   "codemirror_mode": {
    "name": "ipython",
    "version": 3
   },
   "file_extension": ".py",
   "mimetype": "text/x-python",
   "name": "python",
   "nbconvert_exporter": "python",
   "pygments_lexer": "ipython3",
   "version": "3.10.13"
  }
 },
 "nbformat": 4,
 "nbformat_minor": 5
}
